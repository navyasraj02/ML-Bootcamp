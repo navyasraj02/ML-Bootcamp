{
 "cells": [
  {
   "cell_type": "code",
   "execution_count": 13,
   "id": "71fb74af",
   "metadata": {},
   "outputs": [],
   "source": [
    "#Importing Dependencies\n",
    "import pandas as pd\n",
    "import numpy as np\n",
    "import sklearn\n",
    "from sklearn.neighbors import KNeighborsClassifier\n",
    "from sklearn.utils import shuffle\n",
    "from sklearn import linear_model, preprocessing\n",
    "import matplotlib.pyplot as plt\n",
    "from matplotlib import style"
   ]
  },
  {
   "cell_type": "code",
   "execution_count": 14,
   "id": "cdc79fa0",
   "metadata": {},
   "outputs": [
    {
     "data": {
      "text/html": [
       "<div>\n",
       "<style scoped>\n",
       "    .dataframe tbody tr th:only-of-type {\n",
       "        vertical-align: middle;\n",
       "    }\n",
       "\n",
       "    .dataframe tbody tr th {\n",
       "        vertical-align: top;\n",
       "    }\n",
       "\n",
       "    .dataframe thead th {\n",
       "        text-align: right;\n",
       "    }\n",
       "</style>\n",
       "<table border=\"1\" class=\"dataframe\">\n",
       "  <thead>\n",
       "    <tr style=\"text-align: right;\">\n",
       "      <th></th>\n",
       "      <th>Age</th>\n",
       "      <th>EstimatedSalary</th>\n",
       "      <th>Purchased</th>\n",
       "    </tr>\n",
       "  </thead>\n",
       "  <tbody>\n",
       "    <tr>\n",
       "      <th>0</th>\n",
       "      <td>19</td>\n",
       "      <td>19000</td>\n",
       "      <td>0</td>\n",
       "    </tr>\n",
       "    <tr>\n",
       "      <th>1</th>\n",
       "      <td>35</td>\n",
       "      <td>20000</td>\n",
       "      <td>0</td>\n",
       "    </tr>\n",
       "    <tr>\n",
       "      <th>2</th>\n",
       "      <td>26</td>\n",
       "      <td>43000</td>\n",
       "      <td>0</td>\n",
       "    </tr>\n",
       "    <tr>\n",
       "      <th>3</th>\n",
       "      <td>27</td>\n",
       "      <td>57000</td>\n",
       "      <td>0</td>\n",
       "    </tr>\n",
       "    <tr>\n",
       "      <th>4</th>\n",
       "      <td>19</td>\n",
       "      <td>76000</td>\n",
       "      <td>0</td>\n",
       "    </tr>\n",
       "    <tr>\n",
       "      <th>...</th>\n",
       "      <td>...</td>\n",
       "      <td>...</td>\n",
       "      <td>...</td>\n",
       "    </tr>\n",
       "    <tr>\n",
       "      <th>395</th>\n",
       "      <td>46</td>\n",
       "      <td>41000</td>\n",
       "      <td>1</td>\n",
       "    </tr>\n",
       "    <tr>\n",
       "      <th>396</th>\n",
       "      <td>51</td>\n",
       "      <td>23000</td>\n",
       "      <td>1</td>\n",
       "    </tr>\n",
       "    <tr>\n",
       "      <th>397</th>\n",
       "      <td>50</td>\n",
       "      <td>20000</td>\n",
       "      <td>1</td>\n",
       "    </tr>\n",
       "    <tr>\n",
       "      <th>398</th>\n",
       "      <td>36</td>\n",
       "      <td>33000</td>\n",
       "      <td>0</td>\n",
       "    </tr>\n",
       "    <tr>\n",
       "      <th>399</th>\n",
       "      <td>49</td>\n",
       "      <td>36000</td>\n",
       "      <td>1</td>\n",
       "    </tr>\n",
       "  </tbody>\n",
       "</table>\n",
       "<p>400 rows × 3 columns</p>\n",
       "</div>"
      ],
      "text/plain": [
       "     Age  EstimatedSalary  Purchased\n",
       "0     19            19000          0\n",
       "1     35            20000          0\n",
       "2     26            43000          0\n",
       "3     27            57000          0\n",
       "4     19            76000          0\n",
       "..   ...              ...        ...\n",
       "395   46            41000          1\n",
       "396   51            23000          1\n",
       "397   50            20000          1\n",
       "398   36            33000          0\n",
       "399   49            36000          1\n",
       "\n",
       "[400 rows x 3 columns]"
      ]
     },
     "execution_count": 14,
     "metadata": {},
     "output_type": "execute_result"
    }
   ],
   "source": [
    "dataset = pd.read_csv('Social_Network_Ads.csv',sep=',')\n",
    "dataset"
   ]
  },
  {
   "cell_type": "code",
   "execution_count": 15,
   "id": "ee56f943",
   "metadata": {},
   "outputs": [],
   "source": [
    "le = preprocessing.LabelEncoder()\n",
    "age = le.fit_transform(list(dataset['Age']))\n",
    "estsal = le.fit_transform(list(dataset['EstimatedSalary']))\n",
    "pur = le.fit_transform(list(dataset['Purchased']))"
   ]
  },
  {
   "cell_type": "code",
   "execution_count": 16,
   "id": "c4953167",
   "metadata": {},
   "outputs": [
    {
     "name": "stdout",
     "output_type": "stream",
     "text": [
      "Sapphire is at 96.25 % Accuracy.\n"
     ]
    }
   ],
   "source": [
    "x=0\n",
    "for i in range(100):\n",
    "    X = list(zip(age,estsal))\n",
    "    y = list(pur)\n",
    "    x_train, x_test, y_train, y_test = sklearn.model_selection.train_test_split(X, y, test_size = 0.2)\n",
    "    Sapphire = KNeighborsClassifier(n_neighbors=13)\n",
    "    Sapphire.fit(x_train, y_train)\n",
    "    acc = Sapphire.score(x_test, y_test)\n",
    "    if acc>x:\n",
    "        x=acc\n",
    "print(\"Sapphire is at\",(x*100),'% Accuracy.')"
   ]
  },
  {
   "cell_type": "code",
   "execution_count": 17,
   "id": "d6929cc5",
   "metadata": {},
   "outputs": [
    {
     "name": "stdout",
     "output_type": "stream",
     "text": [
      "Sapphire Predicted :  0 Actual Class :  0\n",
      "Sapphire Predicted :  1 Actual Class :  1\n",
      "Sapphire Predicted :  1 Actual Class :  1\n",
      "Sapphire Predicted :  0 Actual Class :  0\n",
      "Sapphire Predicted :  1 Actual Class :  1\n",
      "Sapphire Predicted :  0 Actual Class :  0\n",
      "Sapphire Predicted :  0 Actual Class :  0\n",
      "Sapphire Predicted :  1 Actual Class :  1\n",
      "Sapphire Predicted :  0 Actual Class :  0\n",
      "Sapphire Predicted :  0 Actual Class :  0\n",
      "Sapphire Predicted :  0 Actual Class :  0\n",
      "Sapphire Predicted :  1 Actual Class :  1\n",
      "Sapphire Predicted :  0 Actual Class :  0\n",
      "Sapphire Predicted :  0 Actual Class :  0\n",
      "Sapphire Predicted :  1 Actual Class :  1\n",
      "Sapphire Predicted :  1 Actual Class :  1\n",
      "Sapphire Predicted :  0 Actual Class :  0\n",
      "Sapphire Predicted :  1 Actual Class :  1\n",
      "Sapphire Predicted :  0 Actual Class :  0\n",
      "Sapphire Predicted :  0 Actual Class :  0\n",
      "Sapphire Predicted :  0 Actual Class :  0\n",
      "Sapphire Predicted :  1 Actual Class :  1\n",
      "Sapphire Predicted :  0 Actual Class :  0\n",
      "Sapphire Predicted :  0 Actual Class :  1\n",
      "Sapphire Predicted :  0 Actual Class :  0\n",
      "Sapphire Predicted :  1 Actual Class :  1\n",
      "Sapphire Predicted :  1 Actual Class :  1\n",
      "Sapphire Predicted :  0 Actual Class :  0\n",
      "Sapphire Predicted :  0 Actual Class :  0\n",
      "Sapphire Predicted :  0 Actual Class :  0\n",
      "Sapphire Predicted :  1 Actual Class :  1\n",
      "Sapphire Predicted :  1 Actual Class :  1\n",
      "Sapphire Predicted :  1 Actual Class :  0\n",
      "Sapphire Predicted :  1 Actual Class :  1\n",
      "Sapphire Predicted :  1 Actual Class :  1\n",
      "Sapphire Predicted :  1 Actual Class :  1\n",
      "Sapphire Predicted :  0 Actual Class :  0\n",
      "Sapphire Predicted :  0 Actual Class :  0\n",
      "Sapphire Predicted :  0 Actual Class :  0\n",
      "Sapphire Predicted :  0 Actual Class :  0\n",
      "Sapphire Predicted :  1 Actual Class :  1\n",
      "Sapphire Predicted :  1 Actual Class :  1\n",
      "Sapphire Predicted :  0 Actual Class :  0\n",
      "Sapphire Predicted :  0 Actual Class :  0\n",
      "Sapphire Predicted :  0 Actual Class :  0\n",
      "Sapphire Predicted :  1 Actual Class :  1\n",
      "Sapphire Predicted :  1 Actual Class :  1\n",
      "Sapphire Predicted :  0 Actual Class :  0\n",
      "Sapphire Predicted :  0 Actual Class :  0\n",
      "Sapphire Predicted :  1 Actual Class :  1\n",
      "Sapphire Predicted :  0 Actual Class :  0\n",
      "Sapphire Predicted :  0 Actual Class :  0\n",
      "Sapphire Predicted :  1 Actual Class :  1\n",
      "Sapphire Predicted :  0 Actual Class :  0\n",
      "Sapphire Predicted :  0 Actual Class :  0\n",
      "Sapphire Predicted :  1 Actual Class :  1\n",
      "Sapphire Predicted :  0 Actual Class :  0\n",
      "Sapphire Predicted :  0 Actual Class :  0\n",
      "Sapphire Predicted :  0 Actual Class :  0\n",
      "Sapphire Predicted :  0 Actual Class :  0\n",
      "Sapphire Predicted :  1 Actual Class :  1\n",
      "Sapphire Predicted :  0 Actual Class :  0\n",
      "Sapphire Predicted :  0 Actual Class :  0\n",
      "Sapphire Predicted :  1 Actual Class :  0\n",
      "Sapphire Predicted :  0 Actual Class :  0\n",
      "Sapphire Predicted :  1 Actual Class :  1\n",
      "Sapphire Predicted :  1 Actual Class :  0\n",
      "Sapphire Predicted :  0 Actual Class :  0\n",
      "Sapphire Predicted :  1 Actual Class :  1\n",
      "Sapphire Predicted :  0 Actual Class :  1\n",
      "Sapphire Predicted :  0 Actual Class :  0\n",
      "Sapphire Predicted :  1 Actual Class :  1\n",
      "Sapphire Predicted :  1 Actual Class :  1\n",
      "Sapphire Predicted :  1 Actual Class :  1\n",
      "Sapphire Predicted :  0 Actual Class :  0\n",
      "Sapphire Predicted :  1 Actual Class :  1\n",
      "Sapphire Predicted :  0 Actual Class :  0\n",
      "Sapphire Predicted :  0 Actual Class :  0\n",
      "Sapphire Predicted :  1 Actual Class :  1\n",
      "Sapphire Predicted :  0 Actual Class :  1\n"
     ]
    }
   ],
   "source": [
    "predictions = Sapphire.predict(x_test)\n",
    "for i in range(len(predictions)):\n",
    "    print(\"Sapphire Predicted : \",predictions[i],\"Actual Class : \",y_test[i])"
   ]
  },
  {
   "cell_type": "code",
   "execution_count": 18,
   "id": "7ffcea46",
   "metadata": {},
   "outputs": [
    {
     "data": {
      "image/png": "[encoded data removed]",
      "text/plain": [
       "<Figure size 640x480 with 1 Axes>"
      ]
     },
     "metadata": {},
     "output_type": "display_data"
    }
   ],
   "source": [
    "style.use(\"ggplot\")\n",
    "plt.scatter(dataset['Age'],dataset['EstimatedSalary'])\n",
    "plt.xlabel('Age')\n",
    "plt.ylabel('EstimatedSalary')\n",
    "plt.show()"
   ]
  },
  {
   "cell_type": "code",
   "execution_count": null,
   "id": "5ccd70d8",
   "metadata": {},
   "outputs": [],
   "source": []
  }
 ],
 "metadata": {
  "kernelspec": {
   "display_name": "Python 3",
   "language": "python",
   "name": "python3"
  },
  "language_info": {
   "codemirror_mode": {
    "name": "ipython",
    "version": 3
   },
   "file_extension": ".py",
   "mimetype": "text/x-python",
   "name": "python",
   "nbconvert_exporter": "python",
   "pygments_lexer": "ipython3",
   "version": "3.7.11"
  }
 },
 "nbformat": 4,
 "nbformat_minor": 5
}
