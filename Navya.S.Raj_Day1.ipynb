{
 "cells": [
  {
   "cell_type": "code",
   "execution_count": 7,
   "id": "749bddce",
   "metadata": {},
   "outputs": [],
   "source": [
    "import pandas as pd"
   ]
  },
  {
   "cell_type": "code",
   "execution_count": 9,
   "id": "0788798f",
   "metadata": {},
   "outputs": [
    {
     "name": "stdout",
     "output_type": "stream",
     "text": [
      "    ID      Name  Age  Semester  Marks\n",
      "0    1      Jack   23         8     76\n",
      "1    2     Frank   21         6     65\n",
      "2    3       Amy   23         8     70\n",
      "3    4     Marie   23         8     72\n",
      "4    5     Steve   19         2     92\n",
      "5    6     Julia   21         6     68\n",
      "6    7    Selena   19         2     93\n",
      "7    8      Mark   20         2     90\n",
      "8    9     Bryce   21         6     71\n",
      "9   10  Mallorie   19         2     88\n",
      "10  11      Mary   26         4     90\n"
     ]
    }
   ],
   "source": [
    "x=pd.read_csv(\"D:\\students.csv\",sep=\",\")\n",
    "x.loc[10]=[11,'Mary',26,4,90]             #TO ADD VALUES \n",
    "print(x)"
   ]
  },
  {
   "cell_type": "code",
   "execution_count": 18,
   "id": "6c35f95c",
   "metadata": {},
   "outputs": [
    {
     "name": "stdout",
     "output_type": "stream",
     "text": [
      "    ID      Name  Semester  Marks\n",
      "0    1      Jack         8     76\n",
      "1    2     Frank         6     65\n",
      "2    3       Amy         8     70\n",
      "3    4     Marie         8     72\n",
      "4    5     Steve         2     92\n",
      "5    6     Julia         6     68\n",
      "6    7    Selena         2     93\n",
      "7    8      Mark         2     90\n",
      "8    9     Bryce         6     71\n",
      "9   10  Mallorie         2     88\n",
      "10  11      Mary         4     90\n"
     ]
    }
   ],
   "source": [
    "x.drop('Age',inplace=True,axis=1)            #DROP A COLUMN\n",
    "print(x)"
   ]
  },
  {
   "cell_type": "code",
   "execution_count": 20,
   "id": "8d3bf1fd",
   "metadata": {},
   "outputs": [
    {
     "name": "stdout",
     "output_type": "stream",
     "text": [
      "79.54545454545455\n"
     ]
    }
   ],
   "source": [
    "x_mean=x[\"Marks\"].mean()\n",
    "print(x_mean)                       #MEAN"
   ]
  },
  {
   "cell_type": "code",
   "execution_count": 21,
   "id": "22884ee5",
   "metadata": {},
   "outputs": [],
   "source": [
    "#Numpy\n",
    "import numpy as np"
   ]
  },
  {
   "cell_type": "code",
   "execution_count": 24,
   "id": "52592f78",
   "metadata": {},
   "outputs": [
    {
     "data": {
      "text/plain": [
       "(20,)"
      ]
     },
     "execution_count": 24,
     "metadata": {},
     "output_type": "execute_result"
    }
   ],
   "source": [
    "a1=np.arange(20)\n",
    "a1.shape"
   ]
  },
  {
   "cell_type": "code",
   "execution_count": 25,
   "id": "1d54d426",
   "metadata": {},
   "outputs": [
    {
     "data": {
      "text/plain": [
       "<function ndarray.reshape>"
      ]
     },
     "execution_count": 25,
     "metadata": {},
     "output_type": "execute_result"
    }
   ],
   "source": [
    "a1.reshape"
   ]
  },
  {
   "cell_type": "code",
   "execution_count": 29,
   "id": "5cb9fb85",
   "metadata": {},
   "outputs": [
    {
     "name": "stdout",
     "output_type": "stream",
     "text": [
      "([1, 2, 3, 4], [5, 6, 7, 8], [9, 10, 11, 12], [13, 14, 15, 16], [17, 18, 19, 20])\n",
      "([1, 1, 1, 1], [1, 1, 1, 1], [1, 1, 1, 1], [1, 1, 1, 1], [1, 1, 1, 1])\n"
     ]
    }
   ],
   "source": [
    "arr1=([1,2,3,4],[5,6,7,8],[9,10,11,12],[13,14,15,16],[17,18,19,20])\n",
    "arr2=([1,1,1,1],[1,1,1,1],[1,1,1,1],[1,1,1,1],[1,1,1,1])"
   ]
  },
  {
   "cell_type": "code",
   "execution_count": 32,
   "id": "fc9487ca",
   "metadata": {},
   "outputs": [
    {
     "name": "stdout",
     "output_type": "stream",
     "text": [
      "[[ 2  3  4  5]\n",
      " [ 6  7  8  9]\n",
      " [10 11 12 13]\n",
      " [14 15 16 17]\n",
      " [18 19 20 21]]\n"
     ]
    }
   ],
   "source": [
    "sum1=np.add(arr1,arr2)\n",
    "print(sum1)                           #SUM"
   ]
  },
  {
   "cell_type": "code",
   "execution_count": 37,
   "id": "2569cd39",
   "metadata": {},
   "outputs": [
    {
     "name": "stdout",
     "output_type": "stream",
     "text": [
      "Mean = [10. 11. 12. 13.]\n"
     ]
    }
   ],
   "source": [
    "print('Mean =',np.mean(sum1, axis = 0))      #MEAN"
   ]
  },
  {
   "cell_type": "code",
   "execution_count": null,
   "id": "201f572a",
   "metadata": {},
   "outputs": [],
   "source": []
  }
 ],
 "metadata": {
  "kernelspec": {
   "display_name": "Python 3",
   "language": "python",
   "name": "python3"
  },
  "language_info": {
   "codemirror_mode": {
    "name": "ipython",
    "version": 3
   },
   "file_extension": ".py",
   "mimetype": "text/x-python",
   "name": "python",
   "nbconvert_exporter": "python",
   "pygments_lexer": "ipython3",
   "version": "3.7.11"
  }
 },
 "nbformat": 4,
 "nbformat_minor": 5
}
