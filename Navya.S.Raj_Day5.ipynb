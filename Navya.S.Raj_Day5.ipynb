{
 "cells": [
  {
   "cell_type": "code",
   "execution_count": 18,
   "id": "01b65e0a",
   "metadata": {},
   "outputs": [],
   "source": [
    "import numpy as np\n",
    "import pandas as pd\n",
    "import sklearn\n",
    "from sklearn import datasets      \n",
    "from sklearn import svm           \n",
    "import matplotlib.pyplot as plt"
   ]
  },
  {
   "cell_type": "code",
   "execution_count": 19,
   "id": "556a4dd8",
   "metadata": {},
   "outputs": [],
   "source": [
    "wine_dataset= datasets.load_wine()\n",
    "wine=pd.DataFrame(wine_dataset.data,columns=wine_dataset.feature_names)"
   ]
  },
  {
   "cell_type": "code",
   "execution_count": 20,
   "id": "74baf2ef",
   "metadata": {},
   "outputs": [],
   "source": [
    "X=wine_dataset.data\n",
    "y=wine_dataset.target"
   ]
  },
  {
   "cell_type": "code",
   "execution_count": 21,
   "id": "4b9d1bb2",
   "metadata": {},
   "outputs": [
    {
     "name": "stdout",
     "output_type": "stream",
     "text": [
      "Ruby is at an accuracy of 100.0 %\n"
     ]
    }
   ],
   "source": [
    "x=0\n",
    "for i in range(1000):\n",
    "    x_train, x_test, y_train, y_test = sklearn.model_selection.train_test_split(X , y , test_size= 0.2)\n",
    "    Ruby=svm.SVC(kernel='linear')\n",
    "    Ruby.fit(x_train,y_train)\n",
    "    acc=Ruby.score(x_test,y_test)\n",
    "    if acc>x:\n",
    "        x=acc\n",
    "print(\"Ruby is at an accuracy of\",x*100,\"%\")"
   ]
  },
  {
   "cell_type": "code",
   "execution_count": 22,
   "id": "63277cd5",
   "metadata": {},
   "outputs": [
    {
     "name": "stdout",
     "output_type": "stream",
     "text": [
      "Ruby Predicted : 1 Actual value : 1\n",
      "Ruby Predicted : 2 Actual value : 2\n",
      "Ruby Predicted : 1 Actual value : 1\n",
      "Ruby Predicted : 0 Actual value : 0\n",
      "Ruby Predicted : 1 Actual value : 1\n",
      "Ruby Predicted : 1 Actual value : 1\n",
      "Ruby Predicted : 0 Actual value : 0\n",
      "Ruby Predicted : 2 Actual value : 2\n",
      "Ruby Predicted : 1 Actual value : 1\n",
      "Ruby Predicted : 2 Actual value : 2\n",
      "Ruby Predicted : 0 Actual value : 0\n",
      "Ruby Predicted : 1 Actual value : 1\n",
      "Ruby Predicted : 1 Actual value : 1\n",
      "Ruby Predicted : 1 Actual value : 1\n",
      "Ruby Predicted : 2 Actual value : 2\n",
      "Ruby Predicted : 1 Actual value : 1\n",
      "Ruby Predicted : 1 Actual value : 1\n",
      "Ruby Predicted : 0 Actual value : 0\n",
      "Ruby Predicted : 1 Actual value : 1\n",
      "Ruby Predicted : 1 Actual value : 1\n",
      "Ruby Predicted : 0 Actual value : 0\n",
      "Ruby Predicted : 0 Actual value : 0\n",
      "Ruby Predicted : 1 Actual value : 1\n",
      "Ruby Predicted : 0 Actual value : 0\n",
      "Ruby Predicted : 2 Actual value : 2\n",
      "Ruby Predicted : 1 Actual value : 1\n",
      "Ruby Predicted : 0 Actual value : 0\n",
      "Ruby Predicted : 2 Actual value : 2\n",
      "Ruby Predicted : 0 Actual value : 0\n",
      "Ruby Predicted : 0 Actual value : 0\n",
      "Ruby Predicted : 2 Actual value : 2\n",
      "Ruby Predicted : 1 Actual value : 1\n",
      "Ruby Predicted : 0 Actual value : 0\n",
      "Ruby Predicted : 1 Actual value : 1\n",
      "Ruby Predicted : 0 Actual value : 0\n",
      "Ruby Predicted : 0 Actual value : 0\n"
     ]
    }
   ],
   "source": [
    "predictions = Ruby.predict(x_test)\n",
    "for i in range(len(predictions)):\n",
    "    print(\"Ruby Predicted :\",predictions[i],'Actual value :',y_test[i])"
   ]
  },
  {
   "cell_type": "code",
   "execution_count": null,
   "id": "02785212",
   "metadata": {},
   "outputs": [],
   "source": []
  }
 ],
 "metadata": {
  "kernelspec": {
   "display_name": "Python 3",
   "language": "python",
   "name": "python3"
  },
  "language_info": {
   "codemirror_mode": {
    "name": "ipython",
    "version": 3
   },
   "file_extension": ".py",
   "mimetype": "text/x-python",
   "name": "python",
   "nbconvert_exporter": "python",
   "pygments_lexer": "ipython3",
   "version": "3.7.11"
  }
 },
 "nbformat": 4,
 "nbformat_minor": 5
}
